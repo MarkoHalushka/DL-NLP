{
 "cells": [
  {
   "cell_type": "code",
   "execution_count": 1,
   "id": "87be1274",
   "metadata": {},
   "outputs": [],
   "source": [
    "import nltk\n",
    "from nltk.stem import PorterStemmer\n",
    "from nltk.stem.snowball import SnowballStemmer\n",
    "from nltk.stem.lancaster import LancasterStemmer\n",
    "st = LancasterStemmer()"
   ]
  },
  {
   "cell_type": "code",
   "execution_count": 2,
   "id": "259fc652",
   "metadata": {},
   "outputs": [
    {
     "name": "stdout",
     "output_type": "stream",
     "text": [
      "*** Introductory Examples for the NLTK Book ***\n",
      "Loading text1, ..., text9 and sent1, ..., sent9\n",
      "Type the name of the text or sentence to view it.\n",
      "Type: 'texts()' or 'sents()' to list the materials.\n",
      "text1: Moby Dick by Herman Melville 1851\n",
      "text2: Sense and Sensibility by Jane Austen 1811\n",
      "text3: The Book of Genesis\n",
      "text4: Inaugural Address Corpus\n",
      "text5: Chat Corpus\n",
      "text6: Monty Python and the Holy Grail\n",
      "text7: Wall Street Journal\n",
      "text8: Personals Corpus\n",
      "text9: The Man Who Was Thursday by G . K . Chesterton 1908\n"
     ]
    }
   ],
   "source": [
    "from nltk.book import *"
   ]
  },
  {
   "cell_type": "code",
   "execution_count": 14,
   "id": "15c40713",
   "metadata": {},
   "outputs": [
    {
     "data": {
      "image/png": "[encoded data removed]",
      "text/plain": [
       "<Figure size 1000x500 with 2 Axes>"
      ]
     },
     "metadata": {},
     "output_type": "display_data"
    }
   ],
   "source": [
    "import matplotlib.pyplot as plt\n",
    "from collections import Counter\n",
    "from nltk.stem import PorterStemmer\n",
    "from nltk.book import *\n",
    "\n",
    "stopwords = {\"the\", \",\", \".\", \"i\", \"to\", \"a\", \"of\", \"and\", \"in\", \"for\", \"on\", \"with\", \"it\", \"you\", \"is\", \"that\", \"at\", \"as\",\"he\",\";\",\"s\"}\n",
    "\n",
    "words_filtered = [word for word in text1 if word.lower() not in stopwords]\n",
    "\n",
    "freq_orig = Counter(words_filtered)\n",
    "\n",
    "stemmer = PorterStemmer()\n",
    "stems = [stemmer.stem(word) for word in words_filtered]\n",
    "\n",
    "freq_stemmed = Counter(stems)\n",
    "\n",
    "top_orig = freq_orig.most_common(10)\n",
    "top_stemmed = freq_stemmed.most_common(10)\n",
    "\n",
    "plt.figure(figsize=(10, 5))\n",
    "\n",
    "plt.subplot(1, 2, 1)\n",
    "plt.bar(*zip(*top_orig))\n",
    "plt.title(\"Без стемінгу\")\n",
    "plt.xticks(rotation=45)\n",
    "\n",
    "plt.subplot(1, 2, 2)\n",
    "plt.bar(*zip(*top_stemmed))\n",
    "plt.title(\"Після стемінгу\")\n",
    "plt.xticks(rotation=45)\n",
    "\n",
    "plt.tight_layout()\n",
    "plt.show()\n"
   ]
  },
  {
   "cell_type": "code",
   "execution_count": 18,
   "id": "60d22087",
   "metadata": {},
   "outputs": [
    {
     "name": "stdout",
     "output_type": "stream",
     "text": [
      "['ось', 'прозов', 'текст', 'історії', 'українською:у', 'далек', 'селі,', 'яке', 'було', 'загублене', 'серед', 'лісів,', 'жила', 'молода', 'дівчина', 'на', 'ім’я', 'марічка.', 'вона', 'була', 'відома', 'у', 'своєму', 'селі', 'завдяки', 'своїй', 'доброті', 'і', 'чуйності.', 'кожен,', 'хто', 'приходив', 'до', 'неї,', 'завжди', 'залишався', 'з', 'посмішк', 'на', 'обличчі.', 'марічка', 'допомагала', 'всім:', 'від', 'старих', 'людей,', 'яким', 'вона', 'приносила', 'ліки,', 'до', 'малих', 'дітей,', 'яких', 'навчала', 'читати', 'і', 'писати.одна', 'з', 'її', 'найбільших', 'мрій', 'була', 'відвідати', 'велике', 'місто,', 'де', 'вона', 'чула,', 'що', 'всі', 'можуть', 'знайти', 'своє', 'щастя.', 'та', 'її', 'життя', 'в', 'селі', 'завжди', 'потребувало', 'її', 'присутності.', 'якось,', 'у', 'середині', 'осені,', 'коли', 'на', 'дерев', 'вже', 'жовтіли', 'останні', 'листя,', 'вона', 'вирушила', 'в', 'подорож,', 'щоб', 'подивитися', 'на', 'світ', 'поза', 'меж', 'рідн', 'дому.']\n"
     ]
    }
   ],
   "source": [
    "import re\n",
    "from nltk.stem import RegexpStemmer\n",
    "\n",
    "st = RegexpStemmer('ами$|ями$|ові$|еві$|єві$|ую$|єте$|ете$|ати$|яти$|ити$|іти$|учи$|ючи$|шся$|ться$|сь$|ий$|ій$|а$|я$|е$|є$|у$|ю$|и$|і$|о$')\n",
    "st.stem(\"проектуючи\")\n",
    "\n",
    "def ukrainian_stem(word):\n",
    "    return re.sub(r\"(ів|івка|ями|ами|ость|іст|ці|ою|ий|ого|ому|ім|ах|ами|ях|ем|ев|єв|ів|ом|ої|ею|єю)$\", \"\", word.lower())\n",
    "\n",
    "text = \"Ось прозовий текст історії українською:У далекому селі, яке було загублене серед лісів, жила молода дівчина на ім’я Марічка. Вона була відома у своєму селі завдяки своїй доброті і чуйності. Кожен, хто приходив до неї, завжди залишався з посмішкою на обличчі. Марічка допомагала всім: від старих людей, яким вона приносила ліки, до малих дітей, яких навчала читати і писати.Одна з її найбільших мрій була відвідати велике місто, де вона чула, що всі можуть знайти своє щастя. Та її життя в селі завжди потребувало її присутності. Якось, у середині осені, коли на деревах вже жовтіли останні листя, вона вирушила в подорож, щоб подивитися на світ поза межами рідного дому.\"\n",
    "\n",
    "words = text.split() \n",
    "stems = [ukrainian_stem(word) for word in words]\n",
    "\n",
    "print(stems)\n",
    "\n"
   ]
  },
  {
   "cell_type": "code",
   "execution_count": 1,
   "id": "d82cb89a",
   "metadata": {},
   "outputs": [
    {
     "name": "stdout",
     "output_type": "stream",
     "text": [
      "Wagner-Fischer distance between 'hello' and 'hell no': 2.0\n"
     ]
    }
   ],
   "source": [
    "import numpy as np\n",
    "\n",
    "def qwerty_distance(char1, char2):\n",
    " \n",
    "    qwerty_layout = {\n",
    "        'qwertyuiop': 1, 'asdfghjkl': 2, 'zxcvbnm': 3\n",
    "    }\n",
    "    \n",
    "    for row, weight in qwerty_layout.items():\n",
    "        if char1 in row and char2 in row:\n",
    "            return 0.5  \n",
    "    \n",
    "    return 1  \n",
    "\n",
    "def damerau_levenshtein(q, r):\n",
    "    len_q, len_r = len(q), len(r)\n",
    "    D = np.zeros((len_q + 1, len_r + 1))\n",
    "    \n",
    "    for i in range(len_q + 1):\n",
    "        D[i][0] = i\n",
    "    for j in range(len_r + 1):\n",
    "        D[0][j] = j\n",
    "    \n",
    "    for i in range(1, len_q + 1):\n",
    "        for j in range(1, len_r + 1):\n",
    "            cost = 0 if q[i-1] == r[j-1] else qwerty_distance(q[i-1], r[j-1])\n",
    "            \n",
    "            D[i][j] = min(\n",
    "                D[i-1][j] + 1,  \n",
    "                D[i][j-1] + 1, \n",
    "                D[i-1][j-1] + cost  \n",
    "            )\n",
    "            \n",
    "            if i > 1 and j > 1 and q[i-1] == r[j-2] and q[i-2] == r[j-1]:\n",
    "                D[i][j] = min(D[i][j], D[i-2][j-2] + cost)  \n",
    "    return D[len_q, len_r]\n",
    "\n",
    "word1 = \"hello\"\n",
    "word2 = \"hell no\"\n",
    "print(f\"Wagner-Fischer distance between '{word1}' and '{word2}':\", damerau_levenshtein(word1, word2))\n"
   ]
  },
  {
   "cell_type": "code",
   "execution_count": null,
   "id": "c5b3e9fd",
   "metadata": {},
   "outputs": [],
   "source": []
  }
 ],
 "metadata": {
  "kernelspec": {
   "display_name": "Python 3 (ipykernel)",
   "language": "python",
   "name": "python3"
  },
  "language_info": {
   "codemirror_mode": {
    "name": "ipython",
    "version": 3
   },
   "file_extension": ".py",
   "mimetype": "text/x-python",
   "name": "python",
   "nbconvert_exporter": "python",
   "pygments_lexer": "ipython3",
   "version": "3.9.13"
  }
 },
 "nbformat": 4,
 "nbformat_minor": 5
}
