{
 "cells": [
  {
   "cell_type": "code",
   "execution_count": 1,
   "id": "d68580ec",
   "metadata": {},
   "outputs": [],
   "source": [
    "import nltk\n",
    "from nltk.util import ngrams\n",
    "from collections import Counter"
   ]
  },
  {
   "cell_type": "code",
   "execution_count": 2,
   "id": "5066801c",
   "metadata": {},
   "outputs": [
    {
     "name": "stdout",
     "output_type": "stream",
     "text": [
      "['austen-emma.txt', 'austen-persuasion.txt', 'austen-sense.txt', 'bible-kjv.txt', 'blake-poems.txt', 'bryant-stories.txt', 'burgess-busterbrown.txt', 'carroll-alice.txt', 'chesterton-ball.txt', 'chesterton-brown.txt', 'chesterton-thursday.txt', 'edgeworth-parents.txt', 'melville-moby_dick.txt', 'milton-paradise.txt', 'shakespeare-caesar.txt', 'shakespeare-hamlet.txt', 'shakespeare-macbeth.txt', 'whitman-leaves.txt']\n"
     ]
    },
    {
     "name": "stderr",
     "output_type": "stream",
     "text": [
      "[nltk_data] Downloading package gutenberg to\n",
      "[nltk_data]     C:\\Users\\user\\AppData\\Roaming\\nltk_data...\n",
      "[nltk_data]   Package gutenberg is already up-to-date!\n"
     ]
    }
   ],
   "source": [
    "from nltk.corpus import gutenberg\n",
    "print(gutenberg.fileids())\n",
    "\n",
    "nltk.download('gutenberg')\n",
    "text = gutenberg.raw(\"shakespeare-caesar.txt\")\n",
    "\n",
    "words = nltk.word_tokenize(text.lower())\n",
    "words = [word for word in words if word.isalpha()]\n",
    "\n",
    "trigrams = list(ngrams(words, 3))\n",
    "trigram_counts = Counter(trigrams)\n",
    "\n",
    "bigrams = list(ngrams(words, 2))\n",
    "bigram_counts = Counter(bigrams)"
   ]
  },
  {
   "cell_type": "code",
   "execution_count": 3,
   "id": "b666aaa1",
   "metadata": {},
   "outputs": [
    {
     "name": "stdout",
     "output_type": "stream",
     "text": [
      "Top 10 bigram probabilities:\n",
      "(('the', 'tragedie'), 2) -> 0\n",
      "(('tragedie', 'of'), 2) -> 0\n",
      "(('of', 'julius'), 1) -> 0\n",
      "(('julius', 'caesar'), 1) -> 0\n",
      "(('caesar', 'by'), 1) -> 0\n",
      "(('by', 'william'), 1) -> 0\n",
      "(('william', 'shakespeare'), 1) -> 0\n",
      "(('shakespeare', 'actus'), 1) -> 0\n",
      "(('actus', 'primus'), 1) -> 0\n",
      "(('primus', 'scoena'), 1) -> 0\n",
      "\n",
      "Top 50 trigram probabilities:\n",
      "('the', 'tragedie', 'of') ---- 1.0\n",
      "('tragedie', 'of', 'julius') ---- 0.5\n",
      "('of', 'julius', 'caesar') ---- 1.0\n",
      "('julius', 'caesar', 'by') ---- 1.0\n",
      "('caesar', 'by', 'william') ---- 1.0\n",
      "('by', 'william', 'shakespeare') ---- 1.0\n",
      "('william', 'shakespeare', 'actus') ---- 1.0\n",
      "('shakespeare', 'actus', 'primus') ---- 1.0\n",
      "('actus', 'primus', 'scoena') ---- 1.0\n",
      "('primus', 'scoena', 'prima') ---- 1.0\n",
      "('scoena', 'prima', 'enter') ---- 1.0\n",
      "('prima', 'enter', 'flauius') ---- 1.0\n",
      "('enter', 'flauius', 'murellus') ---- 1.0\n",
      "('flauius', 'murellus', 'and') ---- 1.0\n",
      "('murellus', 'and', 'certaine') ---- 0.5\n",
      "('and', 'certaine', 'commoners') ---- 1.0\n",
      "('certaine', 'commoners', 'ouer') ---- 1.0\n",
      "('commoners', 'ouer', 'the') ---- 1.0\n",
      "('ouer', 'the', 'stage') ---- 1.0\n",
      "('the', 'stage', 'flauius') ---- 1.0\n",
      "('stage', 'flauius', 'hence') ---- 1.0\n",
      "('flauius', 'hence', 'home') ---- 1.0\n",
      "('hence', 'home', 'you') ---- 1.0\n",
      "('home', 'you', 'idle') ---- 1.0\n",
      "('you', 'idle', 'creatures') ---- 1.0\n",
      "('idle', 'creatures', 'get') ---- 1.0\n",
      "('creatures', 'get', 'you') ---- 1.0\n",
      "('get', 'you', 'home') ---- 0.3333333333333333\n",
      "('you', 'home', 'is') ---- 1.0\n",
      "('home', 'is', 'this') ---- 1.0\n",
      "('is', 'this', 'a') ---- 0.2\n",
      "('this', 'a', 'holiday') ---- 0.5\n",
      "('a', 'holiday', 'what') ---- 1.0\n",
      "('holiday', 'what', 'know') ---- 1.0\n",
      "('what', 'know', 'you') ---- 1.0\n",
      "('know', 'you', 'not') ---- 0.14285714285714285\n",
      "('you', 'not', 'being') ---- 0.1111111111111111\n",
      "('not', 'being', 'mechanicall') ---- 1.0\n",
      "('being', 'mechanicall', 'you') ---- 1.0\n",
      "('mechanicall', 'you', 'ought') ---- 1.0\n",
      "('you', 'ought', 'not') ---- 0.5\n",
      "('ought', 'not', 'walke') ---- 1.0\n",
      "('not', 'walke', 'vpon') ---- 1.0\n",
      "('walke', 'vpon', 'a') ---- 1.0\n",
      "('vpon', 'a', 'labouring') ---- 0.25\n",
      "('a', 'labouring', 'day') ---- 1.0\n",
      "('labouring', 'day', 'without') ---- 1.0\n",
      "('day', 'without', 'the') ---- 1.0\n",
      "('without', 'the', 'signe') ---- 1.0\n",
      "('the', 'signe', 'of') ---- 1.0\n",
      "\n",
      "Here are some bigram results with probabilities:\n",
      "('the', 'tragedie') -> 9.886796183696674e-05\n",
      "('tragedie', 'of') -> 9.886796183696674e-05\n",
      "('of', 'julius') -> 4.943398091848337e-05\n",
      "('julius', 'caesar') -> 4.943398091848337e-05\n",
      "('caesar', 'by') -> 4.943398091848337e-05\n",
      "('by', 'william') -> 4.943398091848337e-05\n",
      "('william', 'shakespeare') -> 4.943398091848337e-05\n",
      "('shakespeare', 'actus') -> 4.943398091848337e-05\n",
      "('actus', 'primus') -> 4.943398091848337e-05\n",
      "('primus', 'scoena') -> 4.943398091848337e-05\n"
     ]
    }
   ],
   "source": [
    "def mlf_bigram(bigram):\n",
    "    if bigram in bigram_counts:\n",
    "        return bigram_counts[bigram] / sum(bigram_counts.values())\n",
    "    else:\n",
    "        return 0\n",
    "    \n",
    "def mlf_trigram(trigram):\n",
    "    bigram = trigram[:2]\n",
    "    if trigram in trigram_counts:\n",
    "        return trigram_counts[trigram] / bigram_counts[bigram]\n",
    "    elif bigram in bigram_counts:\n",
    "        return bigram_counts[bigram] / sum(bigram_counts.values())\n",
    "    else:\n",
    "        return 0\n",
    "\n",
    "print(\"Top 10 bigram probabilities:\")\n",
    "\n",
    "for bigram in list(bigram_counts.items())[:10]:\n",
    "    print(bigram, \"->\", mlf_bigram(bigram))\n",
    "    \n",
    "print(\"\\nTop 50 trigram probabilities:\")\n",
    "\n",
    "\n",
    "mlf_results = {trigram: mlf_trigram(trigram) for trigram in trigram_counts}\n",
    "for trigram, prob in list(mlf_results.items())[:50]:\n",
    "    print(trigram, \"----\", prob)\n",
    "\n",
    "print(\"\\nHere are some bigram results with probabilities:\")\n",
    "\n",
    "for bigram, count in list(bigram_counts.items())[:10]:\n",
    "    print(bigram, \"->\", count / sum(bigram_counts.values()))"
   ]
  },
  {
   "cell_type": "code",
   "execution_count": 4,
   "id": "7dfa72be",
   "metadata": {},
   "outputs": [],
   "source": [
    "unigrams = list(ngrams(words, 1))\n",
    "unigram_counts = Counter(unigrams)\n",
    "def mlf_unigram(unigram):\n",
    "    if unigram in unigram_counts:\n",
    "        return unigram_counts[unigram] / sum(unigram_counts.values())\n",
    "    else:\n",
    "        return 0\n",
    "\n",
    "def interpolate(trigram, bigram, unigram, alpha1=0.4, alpha2=0.3, alpha3=0.3):\n",
    "    trigram_prob = mlf_trigram(trigram)\n",
    "    bigram_prob = mlf_bigram(bigram)\n",
    "    unigram_prob = mlf_unigram(unigram)\n",
    "\n",
    "    return alpha1 * trigram_prob + alpha2 * bigram_prob + alpha3 * unigram_prob\n",
    "\n",
    "def backoff(trigram, bigram, unigram):\n",
    "    trigram_prob = mlf_trigram(trigram)\n",
    "    if trigram_prob > 0:\n",
    "        return trigram_prob\n",
    "    else:\n",
    "        bigram_prob = mlf_bigram(bigram)\n",
    "        if bigram_prob > 0:\n",
    "            return bigram_prob\n",
    "        else:\n",
    "            return mlf_unigram(unigram)\n"
   ]
  },
  {
   "cell_type": "code",
   "execution_count": 10,
   "id": "81f833d9",
   "metadata": {},
   "outputs": [
    {
     "name": "stdout",
     "output_type": "stream",
     "text": [
      "Generated Sentence: friends are always there gentle our you a things will intermit sorry for\n"
     ]
    }
   ],
   "source": [
    "import random\n",
    "def predict_next_word(context, ngram_counts, ngram_type='bigram'):\n",
    "    if ngram_type == 'trigram' and len(context) == 2:\n",
    "        trigram = tuple(context[-2:])\n",
    "        trigram_prob = mlf_trigram(trigram)\n",
    "        if trigram_prob > 0:\n",
    "            return get_next_word_from_ngram(ngram_counts, trigram, 2)\n",
    "    if ngram_type == 'bigram' and len(context) == 1:\n",
    "        bigram = tuple(context[-1:])\n",
    "        bigram_prob = mlf_bigram(bigram)\n",
    "        if bigram_prob > 0:\n",
    "            return get_next_word_from_ngram(ngram_counts, bigram, 1)\n",
    "    return random.choice(words)\n",
    "\n",
    "def get_next_word_from_ngram(ngram_counts, ngram, ngram_size):\n",
    "    possible_next_words = [ngram[ngram_size] for ngram in ngram_counts if ngram[:ngram_size] == tuple(ngram)]\n",
    "    return random.choice(possible_next_words) if possible_next_words else random.choice(words)\n",
    "\n",
    "def generate_sentence(prompt, n_words=10):\n",
    "    prompt_words = prompt.split()\n",
    "    generated_words = prompt_words[:]\n",
    "    \n",
    "    for _ in range(n_words):\n",
    "        context = generated_words[-2:]  \n",
    "        next_word = predict_next_word(context, trigram_counts, ngram_type='trigram')  \n",
    "        generated_words.append(next_word)\n",
    "    \n",
    "    return ' '.join(generated_words)\n",
    "\n",
    "prompt = \"friends are always\"\n",
    "generated_sentence = generate_sentence(prompt, n_words=10)\n",
    "print(\"Generated Sentence:\", generated_sentence)"
   ]
  },
  {
   "cell_type": "code",
   "execution_count": null,
   "id": "79f7c280",
   "metadata": {},
   "outputs": [],
   "source": []
  },
  {
   "cell_type": "code",
   "execution_count": null,
   "id": "05c03ba4",
   "metadata": {},
   "outputs": [],
   "source": []
  }
 ],
 "metadata": {
  "kernelspec": {
   "display_name": "Python 3 (ipykernel)",
   "language": "python",
   "name": "python3"
  },
  "language_info": {
   "codemirror_mode": {
    "name": "ipython",
    "version": 3
   },
   "file_extension": ".py",
   "mimetype": "text/x-python",
   "name": "python",
   "nbconvert_exporter": "python",
   "pygments_lexer": "ipython3",
   "version": "3.9.13"
  }
 },
 "nbformat": 4,
 "nbformat_minor": 5
}
