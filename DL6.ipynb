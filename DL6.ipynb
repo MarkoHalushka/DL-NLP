{
 "cells": [
  {
   "cell_type": "markdown",
   "id": "8406b6b2-5c38-42e1-bdd2-c0ebf5fc0307",
   "metadata": {},
   "source": [
    "## PyTorch exercises"
   ]
  },
  {
   "cell_type": "markdown",
   "id": "466028e0-871c-4c72-868b-0b8439e659be",
   "metadata": {},
   "source": [
    "### Tensors\n",
    "\n",
    "1. Make a tensor of size (2, 17)\n",
    "2. Make a torch.FloatTensor of size (3, 1)\n",
    "3. Make a torch.LongTensor of size (5, 2, 1)\n",
    "  - fill the entire tensor with 7s\n",
    "4. Make a torch.ByteTensor of size (5,)\n",
    "  - fill the middle 3 indices with ones such that it records [0, 1, 1, 1, 0]\n",
    "5. Perform a matrix multiplication of two tensors of size (2, 4) and (4, 2). Then do it in-place.\n",
    "6. Do element-wise multiplication of two randomly filled $(n_1,n_2,n_3)$ tensors. Then store the result in an Numpy array.\n",
    "\n",
    "### Forward-prop/backward-prop\n",
    "1. Create a Tensor that `requires_grad` of size (5, 5).\n",
    "2. Sum the values in the Tensor.\n",
    "3. Multiply the tensor by 2 and assign the result to a new python variable (i.e. `x = result`)\n",
    "4. Sum the variable's elements and assign to a new python variable\n",
    "5. Print the gradients of all the variables\n",
    "6. Now perform a backward pass on the last variable (NOTE: for each new python variable that you define, call `.retain_grad()`)\n",
    "7. Print all gradients again"
   ]
  },
  {
   "cell_type": "code",
   "execution_count": 1,
   "id": "8a4b0381",
   "metadata": {},
   "outputs": [
    {
     "name": "stdout",
     "output_type": "stream",
     "text": [
      " Tensor of size (2, 17):\n",
      "tensor([[0., 0., 0., 0., 0., 0., 0., 0., 0., 0., 0., 0., 0., 0., 0., 0., 0.],\n",
      "        [0., 0., 0., 0., 0., 0., 0., 0., 0., 0., 0., 0., 0., 0., 0., 0., 0.]])\n"
     ]
    }
   ],
   "source": [
    "import torch\n",
    "\n",
    "# Task 1\n",
    "tensor1 = torch.tensor([[0.0] * 17, [0.0] * 17])\n",
    "print(\" Tensor of size (2, 17):\")\n",
    "print(tensor1)\n"
   ]
  },
  {
   "cell_type": "code",
   "execution_count": 2,
   "id": "866489bf",
   "metadata": {},
   "outputs": [
    {
     "name": "stdout",
     "output_type": "stream",
     "text": [
      " FloatTensor of size (3, 1):\n",
      "tensor([[0.],\n",
      "        [0.],\n",
      "        [0.]])\n"
     ]
    }
   ],
   "source": [
    "# Task 2\n",
    "tensor2 = torch.FloatTensor(3, 1)\n",
    "print(\" FloatTensor of size (3, 1):\")\n",
    "print(tensor2)\n"
   ]
  },
  {
   "cell_type": "code",
   "execution_count": 3,
   "id": "bb4ac012",
   "metadata": {},
   "outputs": [
    {
     "name": "stdout",
     "output_type": "stream",
     "text": [
      " LongTensor of size (5, 2, 1) filled with 7s:\n",
      "tensor([[[7],\n",
      "         [7]],\n",
      "\n",
      "        [[7],\n",
      "         [7]],\n",
      "\n",
      "        [[7],\n",
      "         [7]],\n",
      "\n",
      "        [[7],\n",
      "         [7]],\n",
      "\n",
      "        [[7],\n",
      "         [7]]])\n"
     ]
    }
   ],
   "source": [
    "# Task 3\n",
    "tensor3 = torch.LongTensor(5, 2, 1).fill_(7)\n",
    "print(\" LongTensor of size (5, 2, 1) filled with 7s:\")\n",
    "print(tensor3)\n"
   ]
  },
  {
   "cell_type": "code",
   "execution_count": 4,
   "id": "b1dded2d",
   "metadata": {},
   "outputs": [
    {
     "name": "stdout",
     "output_type": "stream",
     "text": [
      " ByteTensor of size (5,) with [0, 1, 1, 1, 0]:\n",
      "tensor([0, 1, 1, 1, 0], dtype=torch.uint8)\n"
     ]
    }
   ],
   "source": [
    "# Task 4\n",
    "tensor4 = torch.ByteTensor([0, 1, 1, 1, 0])\n",
    "print(\" ByteTensor of size (5,) with [0, 1, 1, 1, 0]:\")\n",
    "print(tensor4)\n"
   ]
  },
  {
   "cell_type": "code",
   "execution_count": 5,
   "id": "4091299f",
   "metadata": {},
   "outputs": [
    {
     "name": "stdout",
     "output_type": "stream",
     "text": [
      " Matrix multiplication result (2x4) * (4x2):\n",
      "tensor([[-0.8889, -0.2717],\n",
      "        [ 0.5498, -0.2543]])\n",
      " In-place overwrite of A with result:\n",
      "tensor([[-0.8889, -0.2717],\n",
      "        [ 0.5498, -0.2543]])\n"
     ]
    }
   ],
   "source": [
    "# Task 5\n",
    "A = torch.randn(2, 4)\n",
    "B = torch.randn(4, 2)\n",
    "result = torch.matmul(A, B)\n",
    "\n",
    "print(\" Matrix multiplication result (2x4) * (4x2):\")\n",
    "print(result)\n",
    "A = torch.matmul(A, B)\n",
    "print(\" In-place overwrite of A with result:\")\n",
    "print(A)\n"
   ]
  },
  {
   "cell_type": "code",
   "execution_count": 6,
   "id": "2021c42b",
   "metadata": {},
   "outputs": [
    {
     "name": "stdout",
     "output_type": "stream",
     "text": [
      " Element-wise multiplication result:\n",
      "tensor([[[1.6274e-04, 2.1577e-03, 5.6251e-01, 3.6718e-02],\n",
      "         [4.2516e-01, 2.0396e-02, 1.0948e-01, 3.0705e-01],\n",
      "         [8.7753e-01, 5.4295e-01, 8.4559e-01, 2.1721e-01]],\n",
      "\n",
      "        [[4.0951e-01, 1.8030e-01, 5.1912e-01, 4.9944e-01],\n",
      "         [1.3409e-01, 5.2260e-01, 9.6824e-01, 3.4192e-01],\n",
      "         [1.5617e-01, 3.5520e-01, 1.4171e-01, 3.8616e-03]]])\n",
      " Result converted to NumPy array:\n",
      "[[[1.6273654e-04 2.1577068e-03 5.6250918e-01 3.6718372e-02]\n",
      "  [4.2515942e-01 2.0395765e-02 1.0947785e-01 3.0704728e-01]\n",
      "  [8.7752855e-01 5.4294688e-01 8.4558940e-01 2.1720695e-01]]\n",
      "\n",
      " [[4.0951216e-01 1.8030490e-01 5.1911980e-01 4.9944228e-01]\n",
      "  [1.3409378e-01 5.2259552e-01 9.6824056e-01 3.4191865e-01]\n",
      "  [1.5616520e-01 3.5519552e-01 1.4170951e-01 3.8616296e-03]]]\n"
     ]
    }
   ],
   "source": [
    "import numpy as np\n",
    "\n",
    "# Task 6\n",
    "n1, n2, n3 = 2, 3, 4\n",
    "tensor_a = torch.rand(n1, n2, n3)\n",
    "tensor_b = torch.rand(n1, n2, n3)\n",
    "elementwise_result = tensor_a * tensor_b\n",
    "numpy_result = elementwise_result.numpy()\n",
    "\n",
    "print(\" Element-wise multiplication result:\")\n",
    "print(elementwise_result)\n",
    "print(\" Result converted to NumPy array:\")\n",
    "print(numpy_result)\n"
   ]
  },
  {
   "cell_type": "code",
   "execution_count": null,
   "id": "dae41bb9",
   "metadata": {},
   "outputs": [],
   "source": []
  },
  {
   "cell_type": "code",
   "execution_count": 7,
   "id": "0b59f11e",
   "metadata": {},
   "outputs": [
    {
     "name": "stdout",
     "output_type": "stream",
     "text": [
      " Tensor with requires_grad=True:\n",
      "tensor([[-0.3628, -0.8236, -1.0490,  1.0515, -0.8683],\n",
      "        [-1.4116, -0.3529, -1.6874, -1.0593,  2.5627],\n",
      "        [ 0.7779,  0.8759, -0.2971, -1.5095,  2.0342],\n",
      "        [-0.9027, -2.4532, -2.3985, -0.1613,  1.2084],\n",
      "        [ 0.6173, -1.5067, -1.2930,  0.4448,  1.0610]], requires_grad=True)\n"
     ]
    }
   ],
   "source": [
    "# Task 1\n",
    "tensor = torch.randn(5, 5, requires_grad=True)\n",
    "print(\" Tensor with requires_grad=True:\")\n",
    "print(tensor)\n"
   ]
  },
  {
   "cell_type": "code",
   "execution_count": 8,
   "id": "b2c91f4c",
   "metadata": {},
   "outputs": [
    {
     "name": "stdout",
     "output_type": "stream",
     "text": [
      "Sum of all elements in the tensor:\n",
      "tensor(-7.5032, grad_fn=<SumBackward0>)\n"
     ]
    }
   ],
   "source": [
    "# Task 2\n",
    "sum_tensor = tensor.sum()\n",
    "sum_tensor.retain_grad()\n",
    "print(\"Sum of all elements in the tensor:\")\n",
    "print(sum_tensor)\n"
   ]
  },
  {
   "cell_type": "code",
   "execution_count": 9,
   "id": "375a330a",
   "metadata": {},
   "outputs": [
    {
     "name": "stdout",
     "output_type": "stream",
     "text": [
      "Tensor multiplied by 2:\n",
      "tensor([[-0.7256, -1.6472, -2.0979,  2.1030, -1.7366],\n",
      "        [-2.8232, -0.7058, -3.3748, -2.1187,  5.1255],\n",
      "        [ 1.5557,  1.7518, -0.5942, -3.0190,  4.0684],\n",
      "        [-1.8055, -4.9064, -4.7970, -0.3226,  2.4167],\n",
      "        [ 1.2345, -3.0134, -2.5860,  0.8897,  2.1221]], grad_fn=<MulBackward0>)\n"
     ]
    }
   ],
   "source": [
    "# Task 3\n",
    "x = tensor * 2\n",
    "x.retain_grad()\n",
    "print(\"Tensor multiplied by 2:\")\n",
    "print(x)\n"
   ]
  },
  {
   "cell_type": "code",
   "execution_count": 10,
   "id": "8c8db41f",
   "metadata": {},
   "outputs": [
    {
     "name": "stdout",
     "output_type": "stream",
     "text": [
      "Sum of elements after multiplication (final output):\n",
      "tensor(-15.0065, grad_fn=<SumBackward0>)\n"
     ]
    }
   ],
   "source": [
    "# Task 4\n",
    "y = x.sum()\n",
    "y.retain_grad()\n",
    "print(\"Sum of elements after multiplication (final output):\")\n",
    "print(y)\n"
   ]
  },
  {
   "cell_type": "code",
   "execution_count": 11,
   "id": "f7f38c34",
   "metadata": {},
   "outputs": [
    {
     "name": "stdout",
     "output_type": "stream",
     "text": [
      " Gradients before backward:\n",
      "Grad of tensor: None\n",
      "Grad of x: None\n",
      "Grad of y: None\n",
      "Grad of sum_tensor: None\n"
     ]
    }
   ],
   "source": [
    "# Task 5\n",
    "print(\" Gradients before backward:\")\n",
    "print(\"Grad of tensor:\", tensor.grad)\n",
    "print(\"Grad of x:\", x.grad)\n",
    "print(\"Grad of y:\", y.grad)\n",
    "print(\"Grad of sum_tensor:\", sum_tensor.grad)\n"
   ]
  },
  {
   "cell_type": "code",
   "execution_count": 12,
   "id": "6b001ae8",
   "metadata": {},
   "outputs": [
    {
     "name": "stdout",
     "output_type": "stream",
     "text": [
      " Backward pass done.\n"
     ]
    }
   ],
   "source": [
    "# Task 6\n",
    "y.backward()\n",
    "print(\" Backward pass done.\")\n"
   ]
  },
  {
   "cell_type": "code",
   "execution_count": 13,
   "id": "097a7380",
   "metadata": {},
   "outputs": [
    {
     "name": "stdout",
     "output_type": "stream",
     "text": [
      "Gradients after backward:\n",
      "Grad of tensor:\n",
      " tensor([[2., 2., 2., 2., 2.],\n",
      "        [2., 2., 2., 2., 2.],\n",
      "        [2., 2., 2., 2., 2.],\n",
      "        [2., 2., 2., 2., 2.],\n",
      "        [2., 2., 2., 2., 2.]])\n",
      "Grad of x:\n",
      " tensor([[1., 1., 1., 1., 1.],\n",
      "        [1., 1., 1., 1., 1.],\n",
      "        [1., 1., 1., 1., 1.],\n",
      "        [1., 1., 1., 1., 1.],\n",
      "        [1., 1., 1., 1., 1.]])\n",
      "Grad of y:\n",
      " tensor(1.)\n",
      "Grad of sum_tensor:\n",
      " None\n"
     ]
    }
   ],
   "source": [
    "# Task 7\n",
    "print(\"Gradients after backward:\")\n",
    "print(\"Grad of tensor:\\n\", tensor.grad)\n",
    "print(\"Grad of x:\\n\", x.grad)\n",
    "print(\"Grad of y:\\n\", y.grad)\n",
    "print(\"Grad of sum_tensor:\\n\", sum_tensor.grad)\n"
   ]
  },
  {
   "cell_type": "markdown",
   "id": "766d7d57-678c-4bf1-8754-06d1383e9884",
   "metadata": {},
   "source": [
    "### Deep-forward NNs\n",
    "1. Look at Lab 3. In Exercise 12 there, you had to build an $L$-layer neural network with the following structure: *[LINEAR -> RELU]$\\times$(L-1) -> LINEAR -> SIGMOID*. Reimplement the manual code in PyTorch.\n",
    "2. Compare test accuracy using different optimizers: SGD, Adam, Momentum."
   ]
  },
  {
   "cell_type": "code",
   "execution_count": 15,
   "id": "5366761b-c026-4fba-a64e-07c57fef0e86",
   "metadata": {},
   "outputs": [
    {
     "name": "stdout",
     "output_type": "stream",
     "text": [
      "Test accuracy with SGD: 0.4400\n",
      "Test accuracy with Momentum: 0.4400\n",
      "Test accuracy with Adam: 0.5400\n"
     ]
    }
   ],
   "source": [
    "import torch.nn as nn\n",
    "import torch.optim as optim\n",
    "import torch.nn.functional as F\n",
    "from torch.utils.data import TensorDataset, DataLoader\n",
    "\n",
    "layers_dims = [12288, 20, 7, 5, 1]\n",
    "\n",
    "class DeepNet(nn.Module):\n",
    "    def __init__(self, layers_dims):\n",
    "        super(DeepNet, self).__init__()\n",
    "        layers = []\n",
    "        for i in range(len(layers_dims) - 2):\n",
    "            layers.append(nn.Linear(layers_dims[i], layers_dims[i+1]))\n",
    "            layers.append(nn.ReLU())\n",
    "        layers.append(nn.Linear(layers_dims[-2], layers_dims[-1]))\n",
    "        self.net = nn.Sequential(*layers)\n",
    "\n",
    "    def forward(self, x):\n",
    "        x = self.net(x)\n",
    "        return torch.sigmoid(x)\n",
    "\n",
    "\n",
    "def train_model(model, train_loader, optimizer, criterion, epochs=1000):\n",
    "    model.train()\n",
    "    for epoch in range(epochs):\n",
    "        for xb, yb in train_loader:\n",
    "            optimizer.zero_grad()\n",
    "            output = model(xb)\n",
    "            loss = criterion(output, yb)\n",
    "            loss.backward()\n",
    "            optimizer.step()\n",
    "\n",
    "    return model\n",
    "\n",
    "def evaluate_model(model, X_test, Y_test):\n",
    "    model.eval()\n",
    "    with torch.no_grad():\n",
    "        preds = model(X_test).round()\n",
    "        accuracy = (preds.eq(Y_test).sum().float() / Y_test.shape[0]).item()\n",
    "    return accuracy\n",
    "\n",
    "train_x = torch.randn(209, 12288) \n",
    "train_y = torch.randint(0, 2, (209, 1)).float()\n",
    "test_x = torch.randn(50, 12288)\n",
    "test_y = torch.randint(0, 2, (50, 1)).float()\n",
    "\n",
    "train_loader = DataLoader(TensorDataset(train_x, train_y), batch_size=32, shuffle=True)\n",
    "\n",
    "optimizers = {\n",
    "    'SGD': lambda params: optim.SGD(params, lr=0.0075),\n",
    "    'Momentum': lambda params: optim.SGD(params, lr=0.0075, momentum=0.9),\n",
    "    'Adam': lambda params: optim.Adam(params, lr=0.0075)\n",
    "}\n",
    "\n",
    "criterion = nn.BCELoss()\n",
    "\n",
    "for name, opt_fn in optimizers.items():\n",
    "    model = DeepNet(layers_dims)\n",
    "    optimizer = opt_fn(model.parameters())\n",
    "    model = train_model(model, train_loader, optimizer, criterion, epochs=1000)\n",
    "    acc = evaluate_model(model, test_x, test_y)\n",
    "    print(f\"Test accuracy with {name}: {acc:.4f}\")\n"
   ]
  },
  {
   "cell_type": "code",
   "execution_count": null,
   "id": "9b07778a",
   "metadata": {},
   "outputs": [],
   "source": []
  }
 ],
 "metadata": {
  "kernelspec": {
   "display_name": "Python 3 (ipykernel)",
   "language": "python",
   "name": "python3"
  },
  "language_info": {
   "codemirror_mode": {
    "name": "ipython",
    "version": 3
   },
   "file_extension": ".py",
   "mimetype": "text/x-python",
   "name": "python",
   "nbconvert_exporter": "python",
   "pygments_lexer": "ipython3",
   "version": "3.9.13"
  }
 },
 "nbformat": 4,
 "nbformat_minor": 5
}
